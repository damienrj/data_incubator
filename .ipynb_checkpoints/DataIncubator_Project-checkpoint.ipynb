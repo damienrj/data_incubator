{
 "cells": [
  {
   "cell_type": "code",
   "execution_count": null,
   "metadata": {
    "collapsed": true
   },
   "outputs": [],
   "source": [
    "#Question 3  Project"
   ]
  },
  {
   "cell_type": "markdown",
   "metadata": {},
   "source": [
    "Wearable sensors have become increasingly popular over the last few years with the success of smartphones, fitness trackers, and smart watches. Current generations of phones even contain special low power cores the constantly monitor movement. This allows them to act as pedometers for example with a negligible impact on battery life. Other use cases exist as well. For example, with android phones you can set your phone to stay unlocked until it detects that it hasn't moved for some time. The newest version on android even puts your phone in deep sleep to save power if the phone has not moved for a set period of time. This I feel is just the tip of the iceberg with it being possible to apply the data to different applications.\n",
    "\n",
    "I propose that we apply this data to advertising. For example, I show that just by using accelerometer data if it possible to differentiate between distracted states such as standing while talking, and walking while talking vs. standing, walking, and working at the computer. I argue that a person is more likely to interact with the advertisement if there is less competing stimulus from other people. This would allow a company to sell ads at a higher price if the persons phone lists them as not being distracted. \n",
    "\n",
    "To show the feasibly I use sensor data from UCI that only contains the raw x,y,z accelerometer data.  The data is labeled into 7 categories from 15 subjects.  (Working at Computer, Standing Up, Walking and Going Up/Down stairs, Standing, Walking, Going Up/Down Stairs, Walking while Talking, Standing while Talking.)\n",
    "\n",
    "Figure 1 ![Figure 1](https://raw.githubusercontent.com/damienrj/data_incubator/master/data.png) shows an example of the data where I calculate the magnitude of the acceleration vs. time.  The plot is color coded to indicate the labeled state.   I then preformed feature engineering to generate more features included low pass and high pass filtered versions of the data to highlight different behaviors.  I also used a rolling average to calculate the average acceleration within a one second window for the data.  The data was then split into training and testing sets.  Applying a random forest classifier with k-folds cross validation gave a score of 93% to the training data.  Using the test data, I also archived 93%.  Figure 2 ![Matrix](https://raw.githubusercontent.com/damienrj/data_incubator/master/matrix.png) is a confusion matrix generated showing that the model is predicting the different labels.\n",
    "\n",
    "This work clearly shows it is possible to differentiate between states,  and this is only using one accelerometer. Most smartphones have many more available sensors that would make it possible to archive even higher accuracy. \n",
    "\n",
    "\n"
   ]
  },
  {
   "cell_type": "code",
   "execution_count": 463,
   "metadata": {
    "collapsed": false
   },
   "outputs": [],
   "source": [
    "import random\n",
    "import numpy as np\n",
    "import pandas as pd\n",
    "from __future__ import division\n",
    "from sklearn.ensemble import RandomForestClassifier\n",
    "from sklearn.cross_validation import train_test_split\n",
    "from sklearn.cross_validation import KFold\n",
    "from scipy import signal\n",
    "from sklearn.metrics import confusion_matrix\n",
    "import seaborn as sns\n",
    "#Sampling frequency of the accelerometer: 52 Hz \n",
    "labels={1: 'Working at Computer', 2:'Standing Up, Walking, and Going Up/Down Stairs',\n",
    "        3:'Standing', 4:'Walking', 5:'Going Up/Down Stairs', 6: 'Walking and Talking', 7:'Standing and Talking'}\n",
    "\n",
    "# Buterworth low pass filter\n",
    "N  = 2    # Filter order\n",
    "Wn = .1 # Cutoff frequency of 2.6 hz\n",
    "B, A = signal.butter(N, Wn)\n",
    "\n",
    "#High pass\n",
    "Wn = .9 # Cutoff frequency of 24 hz\n",
    "Bh, Ah = signal.butter(N, Wn, 'high')\n",
    "\n",
    "data=[]\n",
    "for a in range(1,16):\n",
    "    df = pd.read_csv('ActivityData/' + str(a) + '.csv' , header=None)\n",
    "    df.drop(0, axis=1, inplace=True)\n",
    "    df.columns = ['Accx', 'Accy', 'Accz', 'Label']\n",
    "    df['ID'] = a\n",
    "    df['Accx_filt'] = signal.filtfilt(B,A, df.Accx)\n",
    "    df['Accy_filt'] = signal.filtfilt(B,A, df.Accy)\n",
    "    df['Accz_filt'] = signal.filtfilt(B,A, df.Accz)\n",
    "    df['Accx_filt_h'] = signal.filtfilt(Bh,Ah, df.Accx)\n",
    "    df['Accy_filt_h'] = signal.filtfilt(Bh,Ah, df.Accy)\n",
    "    df['Accz_filt_h'] = signal.filtfilt(Bh,Ah, df.Accz)\n",
    "    df['Mean_x'] = pd.rolling_mean(df.Accx, 52)\n",
    "    df['Mean_y'] = pd.rolling_mean(df.Accy, 52)\n",
    "    df['Mean_z'] = pd.rolling_mean(df.Accz, 52)\n",
    "    if len(data)==0:\n",
    "        data = df\n",
    "    else:\n",
    "        data = pd.concat([data, df])\n",
    "        \n",
    "    \n",
    "data = data[~(data.Label==0)]\n",
    "data['Mag']= np.sqrt(data.Accx**2 + data.Accy**2 + data.Accz**2)\n",
    "\n",
    "#Remove edges of data where there is no rolling averages (~50 rows per subject)\n",
    "data=data[~data.Mean_x.isnull()]\n",
    "\n",
    "features = ['Mag', 'Accx', 'Accy', 'Accz', 'ID', 'Accx_filt',\n",
    "            'Accy_filt', 'Accz_filt', 'Accx_filt_h', 'Accy_filt_h',\n",
    "            'Accz_filt_h', 'Mean_x', 'Mean_y', 'Mean_z']\n",
    "\n",
    "#Split into training and testing data\n",
    "features_train, features_test, labels_train, labels_test = train_test_split(data[features], data['Label'])\n",
    "\n",
    "#Simple K-Fold cross validation. 10 folds.\n",
    "cv = KFold(len(features_train), n_folds=10, indices=False)\n",
    "\n",
    "#iterate through the training and test cross validation segments and\n",
    "#run the classifier on each one, aggregating the results into a list\n",
    "results = []\n",
    "for traincv, testcv in cv:\n",
    "    rf.fit(features_train[traincv], labels_train[traincv])\n",
    "    results.append(rf.score(features_train[testcv], labels_train[testcv]))\n",
    "    \n",
    "    \n",
    "print('Mean score ' + str(np.mean(results)))\n",
    "\n",
    "#Train model on whole training set\n",
    "rf = RandomForestClassifier(n_estimators=20, n_jobs=-1, verbose=1, min_samples_leaf=3, oob_score=True)\n",
    "rf.fit(features_train, labels_train)\n",
    "\n",
    "print('Test score ' + str(rf.score(features_test,labels_test)))\n",
    "#Generate confusion_matrix\n",
    "con_matrix = confusion_matrix(labels_test, rf.predict(features_test))\n",
    "cm_normalized = cm.astype('float') / cm.sum(axis=1)\n",
    "\n",
    "\n",
    "%matplotlib \n",
    "\n",
    "plt.imshow(cm_normalized, interpolation='nearest', cmap=plt.cm.Blues)\n",
    "\n",
    "plt.title('Confusion Matrix')\n",
    "plt.ylabel('True label')\n",
    "plt.xlabel('Predicted label')\n",
    "plt.colorbar()\n",
    "plt.xticks([0,1,2,3,4,5,6], [1,2,3,4,5,6,7])\n",
    "plt.yticks([0,1,2,3,4,5,6], [1,2,3,4,5,6,7])\n",
    "plt.grid(False)\n",
    "plt.savefig(\"matrix.png\")\n",
    "\n",
    "#Make plot for user 12\n",
    "user = data[data.ID==12]\n",
    "user.Mag-=np.min(user.Mag)\n",
    "user.Mag /= np.max(user.Mag)\n",
    "legend_text=[]\n",
    "\n",
    "t = np.arange(0, len(user.Label))/52\n",
    "sns.set_palette(sns.color_palette(\"Set2\", 8))\n",
    "for a in range(1,8):\n",
    "    plt.plot(t[np.array(user.Label==a)], user.Mag[user.Label==a], linewidth = 1)\n",
    "    legend_text.append(labels[a])\n",
    "\n",
    "plt.legend(legend_text,'best')\n",
    "plt.xlabel('Time(s)')\n",
    "plt.ylabel('Acceleration Magnitude (normalized)')\n",
    "plt.title('Subject 12 Data')\n",
    "plt.xlim(xmax=max(t))\n",
    "plt.savefig(\"data.png\")"
   ]
  },
  {
   "cell_type": "code",
   "execution_count": 214,
   "metadata": {
    "collapsed": false
   },
   "outputs": [],
   "source": []
  },
  {
   "cell_type": "code",
   "execution_count": 462,
   "metadata": {
    "collapsed": false
   },
   "outputs": [
    {
     "name": "stdout",
     "output_type": "stream",
     "text": [
      "Using matplotlib backend: MacOSX\n"
     ]
    }
   ],
   "source": []
  }
 ],
 "metadata": {
  "kernelspec": {
   "display_name": "Python 2",
   "language": "python",
   "name": "python2"
  },
  "language_info": {
   "codemirror_mode": {
    "name": "ipython",
    "version": 2
   },
   "file_extension": ".py",
   "mimetype": "text/x-python",
   "name": "python",
   "nbconvert_exporter": "python",
   "pygments_lexer": "ipython2",
   "version": "2.7.10"
  }
 },
 "nbformat": 4,
 "nbformat_minor": 0
}
